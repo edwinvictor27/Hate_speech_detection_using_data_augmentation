{
  "nbformat": 4,
  "nbformat_minor": 0,
  "metadata": {
    "colab": {
      "provenance": [],
      "gpuType": "T4"
    },
    "kernelspec": {
      "name": "python3",
      "display_name": "Python 3"
    },
    "language_info": {
      "name": "python"
    },
    "accelerator": "GPU"
  },
  "cells": [
    {
      "cell_type": "code",
      "source": [
        "!pip install transformers"
      ],
      "metadata": {
        "colab": {
          "base_uri": "https://localhost:8080/"
        },
        "id": "8gzoL3YFDkve",
        "outputId": "2b0b09ba-a353-4977-c8c6-7fde0abc7218"
      },
      "execution_count": 1,
      "outputs": [
        {
          "output_type": "stream",
          "name": "stdout",
          "text": [
            "Requirement already satisfied: transformers in /usr/local/lib/python3.11/dist-packages (4.47.1)\n",
            "Requirement already satisfied: filelock in /usr/local/lib/python3.11/dist-packages (from transformers) (3.17.0)\n",
            "Requirement already satisfied: huggingface-hub<1.0,>=0.24.0 in /usr/local/lib/python3.11/dist-packages (from transformers) (0.27.1)\n",
            "Requirement already satisfied: numpy>=1.17 in /usr/local/lib/python3.11/dist-packages (from transformers) (1.26.4)\n",
            "Requirement already satisfied: packaging>=20.0 in /usr/local/lib/python3.11/dist-packages (from transformers) (24.2)\n",
            "Requirement already satisfied: pyyaml>=5.1 in /usr/local/lib/python3.11/dist-packages (from transformers) (6.0.2)\n",
            "Requirement already satisfied: regex!=2019.12.17 in /usr/local/lib/python3.11/dist-packages (from transformers) (2024.11.6)\n",
            "Requirement already satisfied: requests in /usr/local/lib/python3.11/dist-packages (from transformers) (2.32.3)\n",
            "Requirement already satisfied: tokenizers<0.22,>=0.21 in /usr/local/lib/python3.11/dist-packages (from transformers) (0.21.0)\n",
            "Requirement already satisfied: safetensors>=0.4.1 in /usr/local/lib/python3.11/dist-packages (from transformers) (0.5.2)\n",
            "Requirement already satisfied: tqdm>=4.27 in /usr/local/lib/python3.11/dist-packages (from transformers) (4.67.1)\n",
            "Requirement already satisfied: fsspec>=2023.5.0 in /usr/local/lib/python3.11/dist-packages (from huggingface-hub<1.0,>=0.24.0->transformers) (2024.10.0)\n",
            "Requirement already satisfied: typing-extensions>=3.7.4.3 in /usr/local/lib/python3.11/dist-packages (from huggingface-hub<1.0,>=0.24.0->transformers) (4.12.2)\n",
            "Requirement already satisfied: charset-normalizer<4,>=2 in /usr/local/lib/python3.11/dist-packages (from requests->transformers) (3.4.1)\n",
            "Requirement already satisfied: idna<4,>=2.5 in /usr/local/lib/python3.11/dist-packages (from requests->transformers) (3.10)\n",
            "Requirement already satisfied: urllib3<3,>=1.21.1 in /usr/local/lib/python3.11/dist-packages (from requests->transformers) (2.3.0)\n",
            "Requirement already satisfied: certifi>=2017.4.17 in /usr/local/lib/python3.11/dist-packages (from requests->transformers) (2024.12.14)\n"
          ]
        }
      ]
    },
    {
      "cell_type": "code",
      "source": [
        "import random\n",
        "import pandas as pd\n",
        "\n",
        "# Function to randomly delete words from a sentence\n",
        "def random_deletion(sentence, p=0.1):\n",
        "    words = sentence.split()\n",
        "    if len(words) == 1:\n",
        "        return sentence\n",
        "\n",
        "    # Keep words with probability 1 - p\n",
        "    words = [word for word in words if random.uniform(0, 1) > p]\n",
        "    return ' '.join(words) if words else sentence\n",
        "\n",
        "# Function to randomly swap words in a sentence\n",
        "def random_swap(sentence, n=2):\n",
        "    words = sentence.split()\n",
        "    if len(words) < 2:\n",
        "        return sentence\n",
        "\n",
        "    for _ in range(n):\n",
        "        idx1, idx2 = random.sample(range(len(words)), 2)\n",
        "        words[idx1], words[idx2] = words[idx2], words[idx1]\n",
        "    return ' '.join(words)\n",
        "\n",
        "# Function to randomly add a word to the sentence\n",
        "def random_insertion(sentence, n=1):\n",
        "    words = sentence.split()\n",
        "    if not words:\n",
        "        return sentence\n",
        "    for _ in range(n):\n",
        "        word_to_add = random.choice(words)\n",
        "        idx = random.randint(0, len(words))\n",
        "        words.insert(idx, word_to_add)\n",
        "    return ' '.join(words)\n",
        "\n",
        "# Function to apply noise injection augmentation\n",
        "def noise_injection(sentence, deletion_prob=0.1, num_swaps=2, num_insertions=1):\n",
        "    if not sentence.strip():\n",
        "        return sentence\n",
        "    # Apply random deletion\n",
        "    sentence = random_deletion(sentence, p=deletion_prob)\n",
        "    # Apply random swap\n",
        "    sentence = random_swap(sentence, n=num_swaps)\n",
        "    # Apply random insertion\n",
        "    sentence = random_insertion(sentence, n=num_insertions)\n",
        "    return sentence\n",
        "\n",
        "# Function to augment the entire dataset with noise injection\n",
        "def augment_dataset_with_noise(data, num_augmentations=5, deletion_prob=0.1, num_swaps=2, num_insertions=1):\n",
        "    augmented_texts = []\n",
        "\n",
        "    for _, row in data.iterrows():\n",
        "        sentence = row['corrected_tweet']\n",
        "        label = row['class']\n",
        "        augmented_texts.append({'corrected_tweet': sentence, 'class': label})\n",
        "\n",
        "        # Generate augmented samples\n",
        "        for _ in range(num_augmentations):\n",
        "            augmented_sentence = noise_injection(\n",
        "                sentence,\n",
        "                deletion_prob=deletion_prob,\n",
        "                num_swaps=num_swaps,\n",
        "                num_insertions=num_insertions\n",
        "            )\n",
        "            augmented_texts.append({'corrected_tweet': augmented_sentence, 'class': label})\n",
        "\n",
        "    return pd.DataFrame(augmented_texts)\n",
        "\n",
        "# Load the dataset\n",
        "dataset_path = '/content/labeled_data_cleaned_whole.csv'\n",
        "data = pd.read_csv(dataset_path)\n",
        "\n",
        "# Handle missing values\n",
        "data['corrected_tweet'] = data['corrected_tweet'].fillna('')\n",
        "data['corrected_tweet'] = data['corrected_tweet'].astype(str)\n",
        "\n",
        "# Apply noise injection augmentation\n",
        "augmented_data = augment_dataset_with_noise(data, num_augmentations=3, deletion_prob=0.1, num_swaps=2, num_insertions=1)\n",
        "\n",
        "# Save the augmented dataset\n",
        "augmented_dataset_path = '/content/augmented_dataset_noise_injection.csv'\n",
        "augmented_data.to_csv(augmented_dataset_path, index=False)\n",
        "print(f\"Augmented dataset saved to {augmented_dataset_path}\")\n"
      ],
      "metadata": {
        "colab": {
          "base_uri": "https://localhost:8080/"
        },
        "id": "QfljvAysWloq",
        "outputId": "c84c6fac-c225-4a7d-c850-57215fca6d7a"
      },
      "execution_count": 15,
      "outputs": [
        {
          "output_type": "stream",
          "name": "stdout",
          "text": [
            "Augmented dataset saved to /content/augmented_dataset_noise_injection.csv\n"
          ]
        }
      ]
    }
  ]
}