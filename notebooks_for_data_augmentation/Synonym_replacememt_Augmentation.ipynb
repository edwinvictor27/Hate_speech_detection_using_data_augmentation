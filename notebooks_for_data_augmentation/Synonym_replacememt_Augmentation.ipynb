{
  "nbformat": 4,
  "nbformat_minor": 0,
  "metadata": {
    "colab": {
      "provenance": [],
      "gpuType": "T4"
    },
    "kernelspec": {
      "name": "python3",
      "display_name": "Python 3"
    },
    "language_info": {
      "name": "python"
    },
    "accelerator": "GPU"
  },
  "cells": [
    {
      "cell_type": "code",
      "source": [
        "!pip install transformers"
      ],
      "metadata": {
        "colab": {
          "base_uri": "https://localhost:8080/"
        },
        "id": "8gzoL3YFDkve",
        "outputId": "2b0b09ba-a353-4977-c8c6-7fde0abc7218"
      },
      "execution_count": 1,
      "outputs": [
        {
          "output_type": "stream",
          "name": "stdout",
          "text": [
            "Requirement already satisfied: transformers in /usr/local/lib/python3.11/dist-packages (4.47.1)\n",
            "Requirement already satisfied: filelock in /usr/local/lib/python3.11/dist-packages (from transformers) (3.17.0)\n",
            "Requirement already satisfied: huggingface-hub<1.0,>=0.24.0 in /usr/local/lib/python3.11/dist-packages (from transformers) (0.27.1)\n",
            "Requirement already satisfied: numpy>=1.17 in /usr/local/lib/python3.11/dist-packages (from transformers) (1.26.4)\n",
            "Requirement already satisfied: packaging>=20.0 in /usr/local/lib/python3.11/dist-packages (from transformers) (24.2)\n",
            "Requirement already satisfied: pyyaml>=5.1 in /usr/local/lib/python3.11/dist-packages (from transformers) (6.0.2)\n",
            "Requirement already satisfied: regex!=2019.12.17 in /usr/local/lib/python3.11/dist-packages (from transformers) (2024.11.6)\n",
            "Requirement already satisfied: requests in /usr/local/lib/python3.11/dist-packages (from transformers) (2.32.3)\n",
            "Requirement already satisfied: tokenizers<0.22,>=0.21 in /usr/local/lib/python3.11/dist-packages (from transformers) (0.21.0)\n",
            "Requirement already satisfied: safetensors>=0.4.1 in /usr/local/lib/python3.11/dist-packages (from transformers) (0.5.2)\n",
            "Requirement already satisfied: tqdm>=4.27 in /usr/local/lib/python3.11/dist-packages (from transformers) (4.67.1)\n",
            "Requirement already satisfied: fsspec>=2023.5.0 in /usr/local/lib/python3.11/dist-packages (from huggingface-hub<1.0,>=0.24.0->transformers) (2024.10.0)\n",
            "Requirement already satisfied: typing-extensions>=3.7.4.3 in /usr/local/lib/python3.11/dist-packages (from huggingface-hub<1.0,>=0.24.0->transformers) (4.12.2)\n",
            "Requirement already satisfied: charset-normalizer<4,>=2 in /usr/local/lib/python3.11/dist-packages (from requests->transformers) (3.4.1)\n",
            "Requirement already satisfied: idna<4,>=2.5 in /usr/local/lib/python3.11/dist-packages (from requests->transformers) (3.10)\n",
            "Requirement already satisfied: urllib3<3,>=1.21.1 in /usr/local/lib/python3.11/dist-packages (from requests->transformers) (2.3.0)\n",
            "Requirement already satisfied: certifi>=2017.4.17 in /usr/local/lib/python3.11/dist-packages (from requests->transformers) (2024.12.14)\n"
          ]
        }
      ]
    },
    {
      "cell_type": "code",
      "source": [
        "import pandas as pd\n",
        "import random\n",
        "import nltk\n",
        "from nltk.corpus import wordnet\n",
        "\n",
        "# Download required NLTK data\n",
        "nltk.download('wordnet')\n",
        "nltk.download('omw-1.4')\n",
        "\n",
        "# Function to get synonyms of a word\n",
        "def get_synonyms(word):\n",
        "    synonyms = []\n",
        "    for syn in wordnet.synsets(word):\n",
        "        for lemma in syn.lemmas():\n",
        "            synonym = lemma.name().replace(\"_\", \" \").lower()\n",
        "            if synonym != word:\n",
        "                synonyms.append(synonym)\n",
        "    return list(set(synonyms))\n",
        "\n",
        "# Function to replace words with their synonyms\n",
        "def synonym_replacement(sentence, num_replacements=2):\n",
        "    words = sentence.split()\n",
        "    if len(words) == 0:\n",
        "        return sentence\n",
        "    words_to_replace = random.sample(words, min(num_replacements, len(words)))\n",
        "\n",
        "    for word in words_to_replace:\n",
        "        synonyms = get_synonyms(word)\n",
        "        if synonyms:\n",
        "            synonym = random.choice(synonyms)\n",
        "            sentence = sentence.replace(word, synonym, 1)\n",
        "\n",
        "    return sentence\n",
        "\n",
        "# Function to augment the entire dataset\n",
        "def augment_dataset_with_synonyms(data, num_augmentations=5, num_replacements=2):\n",
        "    augmented_texts = []\n",
        "\n",
        "    for _, row in data.iterrows():\n",
        "        sentence = row['corrected_tweet']\n",
        "        label = row['class']\n",
        "        augmented_texts.append({'corrected_tweet': sentence, 'class': label})\n",
        "\n",
        "        # Generate augmented samples\n",
        "        for _ in range(num_augmentations):\n",
        "            augmented_sentence = synonym_replacement(sentence, num_replacements)\n",
        "            augmented_texts.append({'corrected_tweet': augmented_sentence, 'class': label})\n",
        "\n",
        "    return pd.DataFrame(augmented_texts)\n",
        "\n",
        "# Load the dataset\n",
        "dataset_path = '/content/labeled_data_cleaned_whole.csv'\n",
        "data = pd.read_csv(dataset_path)\n",
        "\n",
        "# Handle missing values\n",
        "data['corrected_tweet'] = data['corrected_tweet'].fillna('')\n",
        "data['corrected_tweet'] = data['corrected_tweet'].astype(str)\n",
        "\n",
        "# Apply synonym replacement augmentation\n",
        "augmented_data = augment_dataset_with_synonyms(data, num_augmentations=3, num_replacements=2)\n",
        "\n",
        "# Save the augmented dataset\n",
        "augmented_dataset_path = '/content/augmented_dataset_whole_synonyms.csv'\n",
        "augmented_data.to_csv(augmented_dataset_path, index=False)\n",
        "print(f\"Augmented dataset saved to {augmented_dataset_path}\")\n"
      ],
      "metadata": {
        "colab": {
          "base_uri": "https://localhost:8080/"
        },
        "id": "yTXC313xOnEz",
        "outputId": "19f9bc3c-78f8-4e13-cb60-2bc9124c5769"
      },
      "execution_count": 11,
      "outputs": [
        {
          "output_type": "stream",
          "name": "stderr",
          "text": [
            "[nltk_data] Downloading package wordnet to /root/nltk_data...\n",
            "[nltk_data] Downloading package omw-1.4 to /root/nltk_data...\n"
          ]
        },
        {
          "output_type": "stream",
          "name": "stdout",
          "text": [
            "Augmented dataset saved to /content/augmented_dataset_whole_synonyms.csv\n"
          ]
        }
      ]
    }
  ]
}