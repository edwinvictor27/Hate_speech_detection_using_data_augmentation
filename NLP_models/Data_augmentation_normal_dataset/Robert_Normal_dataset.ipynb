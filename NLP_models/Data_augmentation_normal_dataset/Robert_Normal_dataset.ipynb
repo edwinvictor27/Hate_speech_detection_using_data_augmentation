{
  "nbformat": 4,
  "nbformat_minor": 0,
  "metadata": {
    "colab": {
      "provenance": [],
      "gpuType": "T4"
    },
    "kernelspec": {
      "name": "python3",
      "display_name": "Python 3"
    },
    "language_info": {
      "name": "python"
    },
    "accelerator": "GPU"
  },
  "cells": [
    {
      "cell_type": "code",
      "execution_count": null,
      "metadata": {
        "colab": {
          "base_uri": "https://localhost:8080/"
        },
        "id": "K7qHogYBHxyA",
        "outputId": "628d2847-63ce-4ffc-a7bc-12833f590ba3"
      },
      "outputs": [
        {
          "output_type": "stream",
          "name": "stdout",
          "text": [
            "Drive already mounted at /content/drive; to attempt to forcibly remount, call drive.mount(\"/content/drive\", force_remount=True).\n"
          ]
        }
      ],
      "source": [
        "import pandas as pd\n",
        "from sklearn.model_selection import train_test_split\n",
        "import re\n",
        "from transformers import AutoTokenizer, AutoModelForSequenceClassification, AdamW, get_scheduler\n",
        "from torch.utils.data import DataLoader, Dataset\n",
        "import torch\n",
        "from sklearn.utils import resample\n",
        "from sklearn.metrics import classification_report, confusion_matrix, ConfusionMatrixDisplay\n",
        "import matplotlib.pyplot as plt\n",
        "from tqdm import tqdm\n",
        "import random\n",
        "from nltk.corpus import wordnet\n",
        "\n",
        "\n",
        "from google.colab import drive\n",
        "drive.mount('/content/drive')"
      ]
    },
    {
      "cell_type": "code",
      "source": [
        "# Load the dataset\n",
        "file_path = '/content/drive/MyDrive/cleaned_labeled_data_output2.csv'\n",
        "data = pd.read_csv(file_path)"
      ],
      "metadata": {
        "id": "6MqabPNQIAMJ"
      },
      "execution_count": null,
      "outputs": []
    },
    {
      "cell_type": "code",
      "source": [
        "\n",
        "\n",
        "# Drop redundant column\n",
        "if 'Unnamed: 0' in data.columns:\n",
        "    data.drop(columns=['Unnamed: 0'], inplace=True)\n",
        "\n",
        "# Clean tweets\n",
        "def clean_tweet(tweet):\n",
        "    tweet = re.sub(r\"http\\S+\", \"\", tweet)  # Remove URLs\n",
        "    tweet = re.sub(r\"[^A-Za-z0-9\\s]\", \"\", tweet)  # Remove special characters\n",
        "    tweet = re.sub(r\"\\s+\", \" \", tweet).strip()  # Remove extra spaces\n",
        "    return tweet\n",
        "\n",
        "data['tweet'] = data['tweet'].apply(clean_tweet)\n",
        "\n",
        "# Step 2: Split dataset\n",
        "train_data, temp_data = train_test_split(data, test_size=0.3, stratify=data['class'], random_state=42)\n",
        "val_data, test_data = train_test_split(temp_data, test_size=0.5, stratify=temp_data['class'], random_state=42)\n",
        "\n",
        "# Step 3: Balance the dataset (Oversampling Hate Speech class)\n",
        "hate_speech = train_data[train_data['class'] == 0]\n",
        "train_data_balanced = pd.concat([\n",
        "    train_data,\n",
        "    resample(hate_speech, replace=True, n_samples=1000, random_state=42)\n",
        "])\n",
        "\n",
        "# Step 4: Tokenize data\n",
        "tokenizer = AutoTokenizer.from_pretrained('microsoft/deberta-v3-base')  # Replace with ReBERT if available\n",
        "\n",
        "def tokenize_data(data):\n",
        "    return tokenizer(\n",
        "        data['tweet'].tolist(),\n",
        "        padding='max_length',\n",
        "        truncation=True,\n",
        "        max_length=64,  # Reduced sequence length for faster training\n",
        "        return_tensors='pt'\n",
        "    )\n",
        "\n",
        "train_encodings = tokenize_data(train_data_balanced)\n",
        "val_encodings = tokenize_data(val_data)\n",
        "test_encodings = tokenize_data(test_data)\n",
        "\n",
        "# Step 5: Define Dataset class\n",
        "class HateSpeechDataset(Dataset):\n",
        "    def __init__(self, tokenized_texts, labels):\n",
        "        self.tokenized_texts = tokenized_texts\n",
        "        self.labels = labels.values\n",
        "\n",
        "    def __len__(self):\n",
        "        return len(self.labels)\n",
        "\n",
        "    def __getitem__(self, idx):\n",
        "        return {\n",
        "            'input_ids': self.tokenized_texts['input_ids'][idx],\n",
        "            'attention_mask': self.tokenized_texts['attention_mask'][idx],\n",
        "            'labels': torch.tensor(self.labels[idx], dtype=torch.long)\n",
        "        }\n",
        "\n",
        "train_dataset = HateSpeechDataset(train_encodings, train_data_balanced['class'])\n",
        "val_dataset = HateSpeechDataset(val_encodings, val_data['class'])\n",
        "test_dataset = HateSpeechDataset(test_encodings, test_data['class'])\n",
        "\n",
        "# Step 6: Prepare DataLoader\n",
        "train_dataloader = DataLoader(train_dataset, batch_size=32, shuffle=True)\n",
        "val_dataloader = DataLoader(val_dataset, batch_size=16)\n",
        "test_dataloader = DataLoader(test_dataset, batch_size=16)\n",
        "\n",
        "# Step 7: Define the model\n",
        "model = AutoModelForSequenceClassification.from_pretrained('microsoft/deberta-v3-base', num_labels=3)  # Replace with ReBERT if available\n",
        "\n",
        "# Step 8: Define optimizer, scheduler, and class weights\n",
        "optimizer = AdamW(model.parameters(), lr=2e-5)  # Reduced learning rate\n",
        "scheduler = get_scheduler(\n",
        "    \"linear\", optimizer=optimizer, num_warmup_steps=0, num_training_steps=len(train_dataloader) * 10\n",
        ")\n",
        "\n",
        "# Increase weight for Hate Speech\n",
        "class_weights = torch.tensor([3.0, 1.0, 2.0], dtype=torch.float).to('cuda')\n",
        "loss_fn = torch.nn.CrossEntropyLoss(weight=class_weights)\n",
        "\n",
        "# Device setup\n",
        "device = torch.device('cuda' if torch.cuda.is_available() else 'cpu')\n",
        "model.to(device)\n",
        "\n",
        "# Step 9: Define the evaluate_model function\n",
        "def evaluate_model(dataloader):\n",
        "    model.eval()\n",
        "    all_preds = []\n",
        "    all_labels = []\n",
        "\n",
        "    with torch.no_grad():\n",
        "        for batch in dataloader:\n",
        "            inputs = {key: val.to(device) for key, val in batch.items() if key != 'labels'}\n",
        "            labels = batch['labels'].to(device)\n",
        "\n",
        "            outputs = model(**inputs)\n",
        "            preds = torch.argmax(outputs.logits, dim=1)\n",
        "\n",
        "            all_preds.extend(preds.cpu().numpy())\n",
        "            all_labels.extend(labels.cpu().numpy())\n",
        "\n",
        "    return all_preds, all_labels\n",
        "\n",
        "# Training with Mixed Precision and Early Stopping\n",
        "from torch.cuda.amp import autocast, GradScaler\n",
        "scaler = GradScaler()\n",
        "accumulation_steps = 2\n",
        "epochs = 10\n",
        "best_val_f1 = 0\n",
        "early_stopping_patience = 3\n",
        "patience_counter = 0\n",
        "\n",
        "for epoch in range(epochs):\n",
        "    model.train()\n",
        "    total_loss = 0\n",
        "    print(f\"Epoch {epoch + 1}/{epochs}\")\n",
        "\n",
        "    for batch_idx, batch in enumerate(tqdm(train_dataloader)):\n",
        "        inputs = {key: val.to(device) for key, val in batch.items() if key != 'labels'}\n",
        "        labels = batch['labels'].to(device)\n",
        "\n",
        "        optimizer.zero_grad()\n",
        "        with autocast():\n",
        "            outputs = model(**inputs)\n",
        "            loss = loss_fn(outputs.logits, labels)\n",
        "            loss = loss / accumulation_steps\n",
        "\n",
        "        scaler.scale(loss).backward()\n",
        "\n",
        "        if (batch_idx + 1) % accumulation_steps == 0:\n",
        "            scaler.step(optimizer)\n",
        "            scaler.update()\n",
        "            optimizer.zero_grad()\n",
        "\n",
        "        total_loss += loss.item() * accumulation_steps\n",
        "\n",
        "    scheduler.step()\n",
        "    print(f\"Average training loss: {total_loss / len(train_dataloader):.4f}\")\n",
        "\n",
        "    # Validation\n",
        "    val_preds, val_labels = evaluate_model(val_dataloader)\n",
        "    val_report = classification_report(\n",
        "        val_labels,\n",
        "        val_preds,\n",
        "        target_names=['Hate Speech', 'Offensive', 'Neutral'],\n",
        "        output_dict=True\n",
        "    )\n",
        "    val_f1 = val_report['Hate Speech']['f1-score']\n",
        "    print(f\"Validation F1 for Hate Speech: {val_f1:.4f}\")\n",
        "\n",
        "    # Early Stopping\n",
        "    if val_f1 > best_val_f1:\n",
        "        best_val_f1 = val_f1\n",
        "        torch.save(model.state_dict(), \"best_rebert_model.pth\")\n",
        "        patience_counter = 0\n",
        "    else:\n",
        "        patience_counter += 1\n",
        "\n",
        "    if patience_counter >= early_stopping_patience:\n",
        "        print(\"Early stopping triggered.\")\n",
        "        break\n",
        "\n",
        "# Step 10: Load Best Model and Test\n",
        "model.load_state_dict(torch.load(\"best_rebert_model.pth\"))\n",
        "test_preds, test_labels = evaluate_model(test_dataloader)\n",
        "print(\"Test Metrics:\")\n",
        "print(classification_report(test_labels, test_preds, target_names=['Hate Speech', 'Offensive', 'Neutral']))\n"
      ],
      "metadata": {
        "colab": {
          "base_uri": "https://localhost:8080/"
        },
        "id": "KMALqBy1LtbO",
        "outputId": "b611d455-20f8-4fc0-8eb0-45e7c8da04a5"
      },
      "execution_count": null,
      "outputs": [
        {
          "output_type": "stream",
          "name": "stderr",
          "text": [
            "/usr/local/lib/python3.10/dist-packages/transformers/convert_slow_tokenizer.py:561: UserWarning: The sentencepiece tokenizer that you are converting to a fast tokenizer uses the byte fallback option which is not implemented in the fast tokenizers. In practice this means that the fast version of the tokenizer can produce unknown tokens whereas the sentencepiece version would have converted these unknown tokens into a sequence of byte tokens matching the original piece of text.\n",
            "  warnings.warn(\n",
            "Some weights of DebertaV2ForSequenceClassification were not initialized from the model checkpoint at microsoft/deberta-v3-base and are newly initialized: ['classifier.bias', 'classifier.weight', 'pooler.dense.bias', 'pooler.dense.weight']\n",
            "You should probably TRAIN this model on a down-stream task to be able to use it for predictions and inference.\n",
            "/usr/local/lib/python3.10/dist-packages/transformers/optimization.py:591: FutureWarning: This implementation of AdamW is deprecated and will be removed in a future version. Use the PyTorch implementation torch.optim.AdamW instead, or set `no_deprecation_warning=True` to disable this warning\n",
            "  warnings.warn(\n",
            "<ipython-input-7-c1faf5791dbd>:104: FutureWarning: `torch.cuda.amp.GradScaler(args...)` is deprecated. Please use `torch.amp.GradScaler('cuda', args...)` instead.\n",
            "  scaler = GradScaler()\n"
          ]
        },
        {
          "output_type": "stream",
          "name": "stdout",
          "text": [
            "Epoch 1/10\n"
          ]
        },
        {
          "output_type": "stream",
          "name": "stderr",
          "text": [
            "\r  0%|          | 0/574 [00:00<?, ?it/s]<ipython-input-7-c1faf5791dbd>:121: FutureWarning: `torch.cuda.amp.autocast(args...)` is deprecated. Please use `torch.amp.autocast('cuda', args...)` instead.\n",
            "  with autocast():\n",
            "100%|██████████| 574/574 [01:39<00:00,  5.80it/s]\n"
          ]
        },
        {
          "output_type": "stream",
          "name": "stdout",
          "text": [
            "Average training loss: 0.6266\n",
            "Validation F1 for Hate Speech: 0.4688\n",
            "Epoch 2/10\n"
          ]
        },
        {
          "output_type": "stream",
          "name": "stderr",
          "text": [
            "\r  0%|          | 0/574 [00:00<?, ?it/s]<ipython-input-7-c1faf5791dbd>:121: FutureWarning: `torch.cuda.amp.autocast(args...)` is deprecated. Please use `torch.amp.autocast('cuda', args...)` instead.\n",
            "  with autocast():\n",
            "100%|██████████| 574/574 [01:40<00:00,  5.73it/s]\n"
          ]
        },
        {
          "output_type": "stream",
          "name": "stdout",
          "text": [
            "Average training loss: 0.4178\n",
            "Validation F1 for Hate Speech: 0.4236\n",
            "Epoch 3/10\n"
          ]
        },
        {
          "output_type": "stream",
          "name": "stderr",
          "text": [
            "  0%|          | 0/574 [00:00<?, ?it/s]<ipython-input-7-c1faf5791dbd>:121: FutureWarning: `torch.cuda.amp.autocast(args...)` is deprecated. Please use `torch.amp.autocast('cuda', args...)` instead.\n",
            "  with autocast():\n",
            "100%|██████████| 574/574 [01:39<00:00,  5.79it/s]\n"
          ]
        },
        {
          "output_type": "stream",
          "name": "stdout",
          "text": [
            "Average training loss: 0.3758\n",
            "Validation F1 for Hate Speech: 0.4881\n",
            "Epoch 4/10\n"
          ]
        },
        {
          "output_type": "stream",
          "name": "stderr",
          "text": [
            "\r  0%|          | 0/574 [00:00<?, ?it/s]<ipython-input-7-c1faf5791dbd>:121: FutureWarning: `torch.cuda.amp.autocast(args...)` is deprecated. Please use `torch.amp.autocast('cuda', args...)` instead.\n",
            "  with autocast():\n",
            "100%|██████████| 574/574 [01:39<00:00,  5.80it/s]\n"
          ]
        },
        {
          "output_type": "stream",
          "name": "stdout",
          "text": [
            "Average training loss: 0.3293\n",
            "Validation F1 for Hate Speech: 0.5231\n",
            "Epoch 5/10\n"
          ]
        },
        {
          "output_type": "stream",
          "name": "stderr",
          "text": [
            "\r  0%|          | 0/574 [00:00<?, ?it/s]<ipython-input-7-c1faf5791dbd>:121: FutureWarning: `torch.cuda.amp.autocast(args...)` is deprecated. Please use `torch.amp.autocast('cuda', args...)` instead.\n",
            "  with autocast():\n",
            "100%|██████████| 574/574 [01:39<00:00,  5.79it/s]\n"
          ]
        },
        {
          "output_type": "stream",
          "name": "stdout",
          "text": [
            "Average training loss: 0.2934\n",
            "Validation F1 for Hate Speech: 0.4558\n",
            "Epoch 6/10\n"
          ]
        },
        {
          "output_type": "stream",
          "name": "stderr",
          "text": [
            "  0%|          | 0/574 [00:00<?, ?it/s]<ipython-input-7-c1faf5791dbd>:121: FutureWarning: `torch.cuda.amp.autocast(args...)` is deprecated. Please use `torch.amp.autocast('cuda', args...)` instead.\n",
            "  with autocast():\n",
            "100%|██████████| 574/574 [01:38<00:00,  5.80it/s]\n"
          ]
        },
        {
          "output_type": "stream",
          "name": "stdout",
          "text": [
            "Average training loss: 0.2665\n",
            "Validation F1 for Hate Speech: 0.5080\n",
            "Epoch 7/10\n"
          ]
        },
        {
          "output_type": "stream",
          "name": "stderr",
          "text": [
            "  0%|          | 0/574 [00:00<?, ?it/s]<ipython-input-7-c1faf5791dbd>:121: FutureWarning: `torch.cuda.amp.autocast(args...)` is deprecated. Please use `torch.amp.autocast('cuda', args...)` instead.\n",
            "  with autocast():\n",
            "100%|██████████| 574/574 [01:39<00:00,  5.80it/s]\n"
          ]
        },
        {
          "output_type": "stream",
          "name": "stdout",
          "text": [
            "Average training loss: 0.2329\n",
            "Validation F1 for Hate Speech: 0.5455\n",
            "Epoch 8/10\n"
          ]
        },
        {
          "output_type": "stream",
          "name": "stderr",
          "text": [
            "\r  0%|          | 0/574 [00:00<?, ?it/s]<ipython-input-7-c1faf5791dbd>:121: FutureWarning: `torch.cuda.amp.autocast(args...)` is deprecated. Please use `torch.amp.autocast('cuda', args...)` instead.\n",
            "  with autocast():\n",
            "100%|██████████| 574/574 [01:39<00:00,  5.79it/s]\n"
          ]
        },
        {
          "output_type": "stream",
          "name": "stdout",
          "text": [
            "Average training loss: 0.2041\n",
            "Validation F1 for Hate Speech: 0.4447\n",
            "Epoch 9/10\n"
          ]
        },
        {
          "output_type": "stream",
          "name": "stderr",
          "text": [
            "  0%|          | 0/574 [00:00<?, ?it/s]<ipython-input-7-c1faf5791dbd>:121: FutureWarning: `torch.cuda.amp.autocast(args...)` is deprecated. Please use `torch.amp.autocast('cuda', args...)` instead.\n",
            "  with autocast():\n",
            "100%|██████████| 574/574 [01:39<00:00,  5.80it/s]\n"
          ]
        },
        {
          "output_type": "stream",
          "name": "stdout",
          "text": [
            "Average training loss: 0.1757\n",
            "Validation F1 for Hate Speech: 0.4781\n",
            "Epoch 10/10\n"
          ]
        },
        {
          "output_type": "stream",
          "name": "stderr",
          "text": [
            "  0%|          | 0/574 [00:00<?, ?it/s]<ipython-input-7-c1faf5791dbd>:121: FutureWarning: `torch.cuda.amp.autocast(args...)` is deprecated. Please use `torch.amp.autocast('cuda', args...)` instead.\n",
            "  with autocast():\n",
            "100%|██████████| 574/574 [01:38<00:00,  5.80it/s]\n"
          ]
        },
        {
          "output_type": "stream",
          "name": "stdout",
          "text": [
            "Average training loss: 0.1505\n",
            "Validation F1 for Hate Speech: 0.5111\n",
            "Early stopping triggered.\n"
          ]
        },
        {
          "output_type": "stream",
          "name": "stderr",
          "text": [
            "<ipython-input-7-c1faf5791dbd>:162: FutureWarning: You are using `torch.load` with `weights_only=False` (the current default value), which uses the default pickle module implicitly. It is possible to construct malicious pickle data which will execute arbitrary code during unpickling (See https://github.com/pytorch/pytorch/blob/main/SECURITY.md#untrusted-models for more details). In a future release, the default value for `weights_only` will be flipped to `True`. This limits the functions that could be executed during unpickling. Arbitrary objects will no longer be allowed to be loaded via this mode unless they are explicitly allowlisted by the user via `torch.serialization.add_safe_globals`. We recommend you start setting `weights_only=True` for any use case where you don't have full control of the loaded file. Please open an issue on GitHub for any issues related to this experimental feature.\n",
            "  model.load_state_dict(torch.load(\"best_rebert_model.pth\"))\n"
          ]
        },
        {
          "output_type": "stream",
          "name": "stdout",
          "text": [
            "Test Metrics:\n",
            "              precision    recall  f1-score   support\n",
            "\n",
            " Hate Speech       0.45      0.53      0.48       214\n",
            "   Offensive       0.95      0.93      0.94      2879\n",
            "     Neutral       0.87      0.91      0.89       625\n",
            "\n",
            "    accuracy                           0.91      3718\n",
            "   macro avg       0.76      0.79      0.77      3718\n",
            "weighted avg       0.91      0.91      0.91      3718\n",
            "\n"
          ]
        }
      ]
    }
  ]
}