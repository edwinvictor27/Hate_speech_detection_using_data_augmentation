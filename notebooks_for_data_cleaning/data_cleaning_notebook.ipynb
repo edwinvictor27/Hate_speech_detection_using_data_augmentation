{
  "nbformat": 4,
  "nbformat_minor": 0,
  "metadata": {
    "colab": {
      "provenance": []
    },
    "kernelspec": {
      "name": "python3",
      "display_name": "Python 3"
    },
    "language_info": {
      "name": "python"
    }
  },
  "cells": [
    {
      "cell_type": "code",
      "execution_count": 3,
      "metadata": {
        "colab": {
          "base_uri": "https://localhost:8080/"
        },
        "id": "0023vwwa0gsR",
        "outputId": "9ecb5fed-73d3-4748-ed45-6dd442727e32"
      },
      "outputs": [
        {
          "output_type": "stream",
          "name": "stdout",
          "text": [
            "Cleaned dataset saved to: /content/cleaned_labeled_data.csv\n"
          ]
        }
      ],
      "source": [
        "import pandas as pd\n",
        "import re\n",
        "\n",
        "# Load the dataset\n",
        "file_path = \"/content/labeled_data.csv\"\n",
        "dataset = pd.read_csv(file_path)\n",
        "\n",
        "# Drop unnecessary columns\n",
        "dataset.drop(columns=['Unnamed: 0', 'count'], inplace=True)\n",
        "\n",
        "# Function to clean tweet text\n",
        "def clean_text(text):\n",
        "    text = re.sub(r'http\\S+', '', text)  # Remove URLs\n",
        "    text = re.sub(r'@\\w+', '', text)    # Remove mentions\n",
        "    text = re.sub(r'#\\w+', '', text)    # Remove hashtags\n",
        "    text = re.sub(r'[^a-zA-Z\\s]', '', text)  # Remove special characters\n",
        "    text = text.lower()  # Convert to lowercase\n",
        "    text = re.sub(r'\\s+', ' ', text).strip()  # Remove extra whitespace\n",
        "    return text\n",
        "\n",
        "# Apply text cleaning\n",
        "dataset['tweet'] = dataset['tweet'].apply(clean_text)\n",
        "\n",
        "# Drop duplicates\n",
        "dataset.drop_duplicates(subset='tweet', inplace=True)\n",
        "\n",
        "# Ensure 'class' column has valid labels\n",
        "valid_labels = [0, 1, 2]\n",
        "dataset = dataset[dataset['class'].isin(valid_labels)]\n",
        "\n",
        "# Save the cleaned dataset\n",
        "cleaned_file_path = \"/content/cleaned_labeled_data.csv\"\n",
        "dataset.to_csv(cleaned_file_path, index=False)\n",
        "\n",
        "print(f\"Cleaned dataset saved to: {cleaned_file_path}\")\n"
      ]
    }
  ]
}