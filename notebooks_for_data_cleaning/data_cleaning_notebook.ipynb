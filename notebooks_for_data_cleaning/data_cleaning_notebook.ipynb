{
  "nbformat": 4,
  "nbformat_minor": 0,
  "metadata": {
    "colab": {
      "provenance": []
    },
    "kernelspec": {
      "name": "python3",
      "display_name": "Python 3"
    },
    "language_info": {
      "name": "python"
    }
  },
  "cells": [
    {
      "cell_type": "code",
      "source": [
        "import pandas as pd\n",
        "import random\n",
        "from nltk.corpus import wordnet\n",
        "import re\n",
        "import nltk\n",
        "\n",
        "nltk.download('wordnet')\n",
        "\n",
        "# Load the dataset\n",
        "file_path = '/content/labeled_data.csv'\n",
        "dataset = pd.read_csv(file_path)\n",
        "\n",
        "# Drop unnecessary columns\n",
        "dataset.drop(columns=['Unnamed: 0', 'count'], inplace=True)\n",
        "\n",
        "# Function to clean tweet text\n",
        "def clean_text(text):\n",
        "    text = re.sub(r'http\\S+', '', text)  # Remove URLs\n",
        "    text = re.sub(r'@\\w+', '', text)    # Remove mentions\n",
        "    text = re.sub(r'#\\w+', '', text)    # Remove hashtags\n",
        "    text = re.sub(r'[^a-zA-Z\\s]', '', text)  # Remove special characters\n",
        "    text = text.lower()  # Convert to lowercase\n",
        "    text = re.sub(r'\\s+', ' ', text).strip()  # Remove extra whitespace\n",
        "    return text\n",
        "\n",
        "# Apply text cleaning\n",
        "dataset['tweet'] = dataset['tweet'].apply(clean_text)\n",
        "\n",
        "# Data augmentation: Synonym Replacement\n",
        "def replace_synonyms(text):\n",
        "    words = text.split()\n",
        "    augmented = []\n",
        "    for word in words:\n",
        "        synonyms = wordnet.synsets(word)\n",
        "        if synonyms:\n",
        "            synonym = random.choice(synonyms).lemmas()[0].name()\n",
        "            augmented.append(synonym if synonym != word else word)\n",
        "        else:\n",
        "            augmented.append(word)\n",
        "    return ' '.join(augmented)\n",
        "\n",
        "dataset['tweet_synonym'] = dataset['tweet'].apply(replace_synonyms)\n",
        "\n",
        "# Data augmentation: Paraphrased Text (Simplified)\n",
        "def paraphrase_text(text):\n",
        "    words = text.split()\n",
        "    augmented = words[::-1]  # Reversing as a simple paraphrase example\n",
        "    return ' '.join(augmented)\n",
        "\n",
        "dataset['tweet_paraphrased'] = dataset['tweet'].apply(paraphrase_text)\n",
        "\n",
        "# Data augmentation: Shuffled Words\n",
        "def shuffle_words(text):\n",
        "    words = text.split()\n",
        "    random.shuffle(words)\n",
        "    return ' '.join(words)\n",
        "\n",
        "dataset['tweet_shuffled'] = dataset['tweet'].apply(shuffle_words)\n",
        "\n",
        "# Save the cleaned and augmented dataset\n",
        "cleaned_augmented_file_path = '/content/cleaned_augmented_labeled_data.csv'\n",
        "dataset.to_csv(cleaned_augmented_file_path, index=False)\n",
        "\n",
        "print(f\"Cleaned and augmented dataset saved to: {cleaned_augmented_file_path}\")\n"
      ],
      "metadata": {
        "colab": {
          "base_uri": "https://localhost:8080/"
        },
        "id": "2BUX_Ki3CPHJ",
        "outputId": "24be4311-ee87-4379-c2cc-a6efde0c5498"
      },
      "execution_count": 7,
      "outputs": [
        {
          "output_type": "stream",
          "name": "stderr",
          "text": [
            "[nltk_data] Downloading package wordnet to /root/nltk_data...\n",
            "[nltk_data]   Package wordnet is already up-to-date!\n"
          ]
        },
        {
          "output_type": "stream",
          "name": "stdout",
          "text": [
            "Cleaned and augmented dataset saved to: /content/cleaned_augmented_labeled_data.csv\n"
          ]
        }
      ]
    },
    {
      "cell_type": "code",
      "source": [
        "from google.colab import files\n",
        "files.download(\"/content/cleaned_augmented_labeled_data.csv\")  # Replace with your file name"
      ],
      "metadata": {
        "colab": {
          "base_uri": "https://localhost:8080/",
          "height": 17
        },
        "id": "HdGX8I98H4Ik",
        "outputId": "e48522fb-4624-475e-9865-ec4c35105d93"
      },
      "execution_count": 8,
      "outputs": [
        {
          "output_type": "display_data",
          "data": {
            "text/plain": [
              "<IPython.core.display.Javascript object>"
            ],
            "application/javascript": [
              "\n",
              "    async function download(id, filename, size) {\n",
              "      if (!google.colab.kernel.accessAllowed) {\n",
              "        return;\n",
              "      }\n",
              "      const div = document.createElement('div');\n",
              "      const label = document.createElement('label');\n",
              "      label.textContent = `Downloading \"${filename}\": `;\n",
              "      div.appendChild(label);\n",
              "      const progress = document.createElement('progress');\n",
              "      progress.max = size;\n",
              "      div.appendChild(progress);\n",
              "      document.body.appendChild(div);\n",
              "\n",
              "      const buffers = [];\n",
              "      let downloaded = 0;\n",
              "\n",
              "      const channel = await google.colab.kernel.comms.open(id);\n",
              "      // Send a message to notify the kernel that we're ready.\n",
              "      channel.send({})\n",
              "\n",
              "      for await (const message of channel.messages) {\n",
              "        // Send a message to notify the kernel that we're ready.\n",
              "        channel.send({})\n",
              "        if (message.buffers) {\n",
              "          for (const buffer of message.buffers) {\n",
              "            buffers.push(buffer);\n",
              "            downloaded += buffer.byteLength;\n",
              "            progress.value = downloaded;\n",
              "          }\n",
              "        }\n",
              "      }\n",
              "      const blob = new Blob(buffers, {type: 'application/binary'});\n",
              "      const a = document.createElement('a');\n",
              "      a.href = window.URL.createObjectURL(blob);\n",
              "      a.download = filename;\n",
              "      div.appendChild(a);\n",
              "      a.click();\n",
              "      div.remove();\n",
              "    }\n",
              "  "
            ]
          },
          "metadata": {}
        },
        {
          "output_type": "display_data",
          "data": {
            "text/plain": [
              "<IPython.core.display.Javascript object>"
            ],
            "application/javascript": [
              "download(\"download_74eeba6b-3ee7-4f64-8969-005a10fb6fd0\", \"cleaned_augmented_labeled_data.csv\", 6865806)"
            ]
          },
          "metadata": {}
        }
      ]
    }
  ]
}